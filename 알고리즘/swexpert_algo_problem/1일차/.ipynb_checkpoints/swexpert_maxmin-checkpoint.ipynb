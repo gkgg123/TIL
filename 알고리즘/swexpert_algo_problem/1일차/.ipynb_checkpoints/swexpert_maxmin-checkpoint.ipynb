{
 "cells": [
  {
   "cell_type": "markdown",
   "metadata": {},
   "source": [
    "# Maxmin"
   ]
  },
  {
   "cell_type": "markdown",
   "metadata": {},
   "source": [
    ">N개의 양의 정수에서 가장 큰 수와 가장 작은 수의 차이를 출력하시오."
   ]
  },
  {
   "cell_type": "markdown",
   "metadata": {},
   "source": [
    "## [입력]\n",
    "\n",
    "> 첫 줄에 테스트 케이스의 수 T가 주어진다. ( 1 ≤ T ≤ 50 )\n",
    "\n",
    "> 각 케이스의 첫 줄에 양수의 개수 N이 주어진다. ( 5 ≤ N ≤ 1000 )\n",
    "\n",
    "> 다음 줄에 N개의 양수 ai가 주어진다. ( 1 ≤ ai≤ 1000000 )"
   ]
  },
  {
   "cell_type": "markdown",
   "metadata": {},
   "source": [
    "## [출력]\n",
    "\n",
    "> 각 줄마다 \"#T\" (T는 테스트 케이스 번호)를 출력한 뒤, 답을 출력한다."
   ]
  },
  {
   "cell_type": "code",
   "execution_count": null,
   "metadata": {},
   "outputs": [],
   "source": [
    "import sys\n",
    "sys.stdin=open(\"maxmin_1day.txt\",\"r\")\n",
    "T=int(input())\n",
    "for test_case in range(1,T+1):\n",
    "    rep=int(input())\n",
    "    numbers=list(map(int,input().split(' ')))\n",
    "    max_number=numbers[0]\n",
    "    min_number=numbers[0]\n",
    "    for i in range(1,rep):\n",
    "        if max_number<numbers[i]:\n",
    "            max_number=numbers[i]\n",
    "        elif min_number>numbers[i]:\n",
    "            min_number=numbers[i]\n",
    "    result=max_number-min_number\n",
    "    \n",
    "    print('#{} {}'.format(test_case,result))"
   ]
  },
  {
   "cell_type": "markdown",
   "metadata": {},
   "source": [
    "# 풀이\n",
    "\n",
    "\n",
    "#### 해당문제는 min max를 쓰지 않고 최고값과 최소값을 구하는 방식이었다. 최소값 최대값을 최초값으로 해놓고 각 인자마다 비교를 하여 최소값과 최대값을 구해냈다."
   ]
  }
 ],
 "metadata": {
  "kernelspec": {
   "display_name": "Python 3",
   "language": "python",
   "name": "python3"
  },
  "language_info": {
   "codemirror_mode": {
    "name": "ipython",
    "version": 3
   },
   "file_extension": ".py",
   "mimetype": "text/x-python",
   "name": "python",
   "nbconvert_exporter": "python",
   "pygments_lexer": "ipython3",
   "version": "3.7.3"
  }
 },
 "nbformat": 4,
 "nbformat_minor": 4
}
