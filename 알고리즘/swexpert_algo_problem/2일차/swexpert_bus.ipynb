{
 "cells": [
  {
   "cell_type": "markdown",
   "metadata": {},
   "source": [
    "# 전기버스"
   ]
  },
  {
   "cell_type": "markdown",
   "metadata": {},
   "source": [
    ">A도시는 전기버스를 운행하려고 한다. 전기버스는 한번 충전으로 이동할 수 있는 정류장 수가 정해져 있어서, 중간에 충전기가 설치된 정류장을 만들기로 했다.\n",
    "\n",
    ">버스는 0번에서 출발해 종점인 N번 정류장까지 이동하고, 한번 충전으로 최대한 이동할 수 있는 정류장 수 K가 정해져 있다.\n",
    "\n",
    ">충전기가 설치된 M개의 정류장 번호가 주어질 때, 최소한 몇 번의 충전을 해야 종점에 도착할 수 있는지 출력하는 프로그램을 만드시오.\n",
    "\n",
    ">만약 충전기 설치가 잘못되어 종점에 도착할 수 없는 경우는 0을 출력한다. 출발지에는 항상 충전기가 설치되어 있지만 충전횟수에는 포함하지 않는다."
   ]
  },
  {
   "attachments": {
    "image.png": {
     "image/png": "[encoded data removed]"
    }
   },
   "cell_type": "markdown",
   "metadata": {},
   "source": [
    "![image.png](attachment:image.png)"
   ]
  },
  {
   "cell_type": "markdown",
   "metadata": {},
   "source": [
    "#### [입력]\n",
    " \n",
    "\n",
    ">첫 줄에 노선 수 T가 주어진다.  ( 1 ≤ T ≤ 50 )\n",
    "\n",
    "\n",
    ">각 노선별로 K, N, M이 주어지고, 다음줄에 M개의 정류장 번호가 주어진다. ( 1 ≤ K, N, M ≤ 100 )"
   ]
  },
  {
   "cell_type": "markdown",
   "metadata": {},
   "source": [
    "#### [출력]\n",
    "\n",
    "\n",
    ">#과 노선번호, 빈칸에 이어 최소 충전횟수 또는 0을 출력한다.\n"
   ]
  },
  {
   "cell_type": "code",
   "execution_count": null,
   "metadata": {},
   "outputs": [],
   "source": [
    "T=int(input())\n",
    "for test_case in range(1,T+1):\n",
    "    k,n,m=map(int,input().split(' '))\n",
    "    rail=range(n+1)\n",
    "    char=list(map(int,input().split(' ')))\n",
    "    char_map=[0]*(n+1)\n",
    "    person=0\n",
    "    stop=0\n",
    "    cnt=0\n",
    "    for ind in char:\n",
    "        char_map[ind]=1\n",
    "    for st in range(len(char)-1):\n",
    "        if char[st]+k<char[st+1]:\n",
    "            stop=99999\n",
    "    if stop==0:\n",
    "        while True:\n",
    "            if sum(char_map[person:person+k+1]):\n",
    "                temp=0\n",
    "                for indd,value in enumerate(char_map[:person+k+1]):\n",
    "                    if value==1:\n",
    "                        person=indd\n",
    "                cnt=cnt+1\n",
    "                if person+k>=n:\n",
    "                    break\n",
    "    if stop>0:\n",
    "        print('#{} 0'.format(test_case))\n",
    "    else:\n",
    "        print('#{} {}'.format(test_case,cnt))"
   ]
  },
  {
   "cell_type": "markdown",
   "metadata": {},
   "source": [
    "# 풀이법 및 접근법\n",
    "\n",
    "#### 해당 문제는 먼저 충전기의 위치가 이동거리보다 먼지 확인을 해주었다. 그리고 넘었을경우엔 밑에 확인을 안하고 실패값을 주었다.\n",
    "\n",
    "#### 그리고 이 문제를 풀때 접근법은 처음위치에서 최대 이동거리까지 간후 거기서 가장 가까운 전기충전소로 사람의 위치를 바꿔주었다. \n",
    "#### 그 뒤에 움직여진 위치에서 최대 이동거리를 더해서 정류장 길이를 넘어갈시에는 멈추는 방식으로 했다."
   ]
  }
 ],
 "metadata": {
  "kernelspec": {
   "display_name": "Python 3",
   "language": "python",
   "name": "python3"
  },
  "language_info": {
   "codemirror_mode": {
    "name": "ipython",
    "version": 3
   },
   "file_extension": ".py",
   "mimetype": "text/x-python",
   "name": "python",
   "nbconvert_exporter": "python",
   "pygments_lexer": "ipython3",
   "version": "3.7.3"
  }
 },
 "nbformat": 4,
 "nbformat_minor": 4
}
