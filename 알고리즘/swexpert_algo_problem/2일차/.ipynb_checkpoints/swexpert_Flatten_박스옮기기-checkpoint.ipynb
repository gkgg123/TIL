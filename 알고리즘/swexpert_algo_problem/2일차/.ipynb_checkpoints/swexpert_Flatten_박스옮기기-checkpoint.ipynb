{
 "cells": [
  {
   "cell_type": "markdown",
   "metadata": {},
   "source": [
    "# Flatten"
   ]
  },
  {
   "cell_type": "markdown",
   "metadata": {},
   "source": [
    ">한 쪽 벽면에 다음과 같이 노란색 상자들이 쌓여 있다.\n",
    "\n",
    ">높은 곳의 상자를 낮은 곳에 옮기는 방식으로 최고점과 최저점의 간격을 줄이는 작업을 평탄화라고 한다.\n",
    "\n",
    ">평탄화를 모두 수행하고 나면, 가장 높은 곳과 가장 낮은 곳의 차이가 최대 1 이내가 된다.\n",
    "\n",
    ">평탄화 작업을 위해서 상자를 옮기는 작업 횟수에 제한이 걸려있을 때, 제한된 횟수만큼 옮기는 작업을 한 후 최고점과 최저점의 차이를 반환하는 프로그램을 작성하시오."
   ]
  },
  {
   "cell_type": "markdown",
   "metadata": {},
   "source": [
    "#### [제약 사항]\n",
    "\n",
    ">가로 길이는 항상 100으로 주어진다.\n",
    "\n",
    ">모든 위치에서 상자의 높이는 1이상 100이하로 주어진다.\n",
    "\n",
    ">덤프 횟수는 1이상 1000이하로 주어진다.\n",
    "\n",
    ">주어진 덤프 횟수 이내에 평탄화가 완료되면 더 이상 덤프를 수행할 수 없으므로 그 때의 최고점과 최저점의 높이 차를 반환한다 (주어진 data에 따라 0 또는 1이 된다).\n"
   ]
  },
  {
   "cell_type": "markdown",
   "metadata": {},
   "source": [
    "#### [입력]\n",
    "\n",
    "> 총 10개의 테스트 케이스가 주어지며, 각 테스트 케이스의 첫 번째 줄에는 덤프 횟수가 주어진다. 그리고 다음 줄에 각 상자의 높이값이 주어진다.\n"
   ]
  },
  {
   "cell_type": "markdown",
   "metadata": {},
   "source": [
    "#### [출력]\n",
    "\n",
    "> #부호와 함께 테스트 케이스의 번호를 출력하고, 공백 문자 후 테스트 케이스의 최고점과 최저점의 높이 차를 출력한다."
   ]
  },
  {
   "cell_type": "code",
   "execution_count": null,
   "metadata": {},
   "outputs": [],
   "source": [
    "\n",
    "for test_case in range(1,11):\n",
    "    dump=int(input())\n",
    "    box=list(map(int,input().split()))\n",
    "\n",
    "    while dump>0:\n",
    "        box=sorted(box)\n",
    "        box[-1]-=1\n",
    "        box[0]+=1\n",
    "        dump-=1\n",
    "    print('#{} {}'.format(test_case,max(box)-min(box)))"
   ]
  },
  {
   "cell_type": "markdown",
   "metadata": {},
   "source": [
    "### 풀이법\n",
    "\n",
    "#### 이 문제는 위치에 대한 제약조건이 없었기 때문에 전부다 정렬 후 제일 끝에걸 앞으로 옮기고 정렬하는 방식으로 했습니다."
   ]
  }
 ],
 "metadata": {
  "kernelspec": {
   "display_name": "Python 3",
   "language": "python",
   "name": "python3"
  },
  "language_info": {
   "codemirror_mode": {
    "name": "ipython",
    "version": 3
   },
   "file_extension": ".py",
   "mimetype": "text/x-python",
   "name": "python",
   "nbconvert_exporter": "python",
   "pygments_lexer": "ipython3",
   "version": "3.7.3"
  }
 },
 "nbformat": 4,
 "nbformat_minor": 4
}
