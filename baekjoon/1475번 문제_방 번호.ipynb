{
 "cells": [
  {
   "cell_type": "markdown",
   "metadata": {},
   "source": [
    "# 1475번 문제\n",
    "\n",
    "### 방 번호\n"
   ]
  },
  {
   "cell_type": "markdown",
   "metadata": {},
   "source": [
    "#### 문제\n",
    "\n",
    "> 다솜이는 은진이의 옆집에 새로 이사왔다. 다솜이는 자기 방 번호를 예쁜 플라스틱 숫자로 문에 붙이려고 한다.\n",
    "\n",
    ">다솜이의 옆집에서는 플라스틱 숫자를 한 세트로 판다. 한 세트에는 0번부터 9번까지 숫자가 하나씩 들어있다. 다솜이의 방 번호가 주어졌을 때, 필요한 세트의 개수의 최솟값을 출력하시오. (6은 9를 뒤집어서 이용할 수 있고, 9는 6을 뒤집어서 이용할 수 있다.)"
   ]
  },
  {
   "cell_type": "markdown",
   "metadata": {},
   "source": [
    "#### 입력\n",
    "> 첫째 줄에 다솜이의 방 번호 N이 주어진다. N은 1,000,000보다 작거나 같은 자연수 또는 0이다."
   ]
  },
  {
   "cell_type": "markdown",
   "metadata": {},
   "source": [
    "#### 출력\n",
    "> 첫째 줄에 필요한 세트의 개수를 출력한다."
   ]
  },
  {
   "cell_type": "code",
   "execution_count": 1,
   "metadata": {},
   "outputs": [
    {
     "name": "stdout",
     "output_type": "stream",
     "text": [
      "5465453121587565883215\n",
      "7\n"
     ]
    }
   ],
   "source": [
    "import math\n",
    "a=input()\n",
    "k={}\n",
    "for i in range(10):\n",
    "    k[i]=0\n",
    "for j in a:\n",
    "    j=int(j)\n",
    "    k[j]+=1\n",
    "result1=0\n",
    "result2=0\n",
    "for index,value in k.items():\n",
    "    if index==6 or index==9:\n",
    "        result2=k[9]+k[6]\n",
    "    else:\n",
    "        if result1<value:\n",
    "            result1=value\n",
    "            \n",
    "\n",
    "result2=math.ceil(result2/2)\n",
    "if result2>result1:\n",
    "    print(result2)\n",
    "else:\n",
    "    print(result1)"
   ]
  },
  {
   "cell_type": "markdown",
   "metadata": {},
   "source": [
    "# 배울점\n",
    "\n",
    "### 빈 리스트 0~9 까지의 리스트를 만들고 input을 문자열로 받아 각각의 숫자에 맞게 나눠준다.\n",
    "\n",
    "### 그리고 난뒤 6과 9는 거꾸로 해서 쓸수 있으므로. 6과 9일 때에는 그 2개의 값을 합해서 result2에 저장해놓는다.\n",
    "\n",
    "### 그 이외에는 result1에 임시저장을 하면서 각 index의 value값이 result1보다 크면 그 값을 교체해주는 방식을 한다.\n",
    "\n",
    "### 마지막으로 result2는 2로 나눠서 올림을 하고 result1과 비교하여 더 큰걸 출력 한다."
   ]
  }
 ],
 "metadata": {
  "kernelspec": {
   "display_name": "Python 3",
   "language": "python",
   "name": "python3"
  },
  "language_info": {
   "codemirror_mode": {
    "name": "ipython",
    "version": 3
   },
   "file_extension": ".py",
   "mimetype": "text/x-python",
   "name": "python",
   "nbconvert_exporter": "python",
   "pygments_lexer": "ipython3",
   "version": "3.7.3"
  }
 },
 "nbformat": 4,
 "nbformat_minor": 4
}
