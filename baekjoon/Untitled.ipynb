{
 "cells": [
  {
   "cell_type": "markdown",
   "metadata": {},
   "source": [
    "# 1000번 문제\n",
    "\n",
    "### A+B\n"
   ]
  },
  {
   "cell_type": "markdown",
   "metadata": {},
   "source": [
    "#### 문제\n",
    "\n",
    "> 인체에 치명적인 바이러스를 연구하던 연구소에서 바이러스가 유출되었다. 다행히 바이러스는 아직 퍼지지 않았고, 바이러스의 확산을 막기 위해서 연구소에 벽을 세우려고 한다.\n",
    "\n",
    ">연구소는 크기가 N×M인 직사각형으로 나타낼 수 있으며, 직사각형은 1×1 크기의 정사각형으로 나누어져 있다. 연구소는 빈 칸, 벽으로 이루어져 있으며, 벽은 칸 하나를 가득 차지한다. \n",
    "\n",
    ">일부 칸은 바이러스가 존재하며, 이 바이러스는 상하좌우로 인접한 빈 칸으로 모두 퍼져나갈 수 있다. 새로 세울 수 있는 벽의 개수는 3개이며, 꼭 3개를 세워야 한다.\n",
    "\n",
    ">예를 들어, 아래와 같이 연구소가 생긴 경우를 살펴보자.\n",
    "\n",
    "```\n",
    "2 0 0 0 1 1 0\n",
    "0 0 1 0 1 2 0\n",
    "0 1 1 0 1 0 0\n",
    "0 1 0 0 0 0 0\n",
    "0 0 0 0 0 1 1\n",
    "0 1 0 0 0 0 0\n",
    "0 1 0 0 0 0 0\n",
    "```\n",
    ">이때, 0은 빈 칸, 1은 벽, 2는 바이러스가 있는 곳이다. 아무런 벽을 세우지 않는다면, 바이러스는 모든 빈 칸으로 퍼져나갈 수 있다.\n",
    "2행 1열, 1행 2열, 4행 6열에 벽을 세운다면 지도의 모양은 아래와 같아지게 된다.\n",
    "\n",
    "```\n",
    "2 1 0 0 1 1 0\n",
    "1 0 1 0 1 2 0\n",
    "0 1 1 0 1 0 0\n",
    "0 1 0 0 0 1 0\n",
    "0 0 0 0 0 1 1\n",
    "0 1 0 0 0 0 0\n",
    "0 1 0 0 0 0 0\n",
    "```\n",
    ">바이러스가 퍼진 뒤의 모습은 아래와 같아진다.\n",
    "\n",
    "```\n",
    "2 1 0 0 1 1 2\n",
    "1 0 1 0 1 2 2\n",
    "0 1 1 0 1 2 2\n",
    "0 1 0 0 0 1 2\n",
    "0 0 0 0 0 1 1\n",
    "0 1 0 0 0 0 0\n",
    "0 1 0 0 0 0 0\n",
    "```\n",
    ">벽을 3개 세운 뒤, 바이러스가 퍼질 수 없는 곳을 안전 영역이라고 한다. 위의 지도에서 안전 영역의 크기는 27이다.\n",
    "연구소의 지도가 주어졌을 때 얻을 수 있는 안전 영역 크기의 최댓값을 구하는 프로그램을 작성하시오."
   ]
  },
  {
   "cell_type": "markdown",
   "metadata": {},
   "source": [
    "#### 입력\n",
    "> 첫째 줄에 지도의 세로 크기 N과 가로 크기 M이 주어진다. (3 ≤ N, M ≤ 8)\n",
    "\n",
    ">둘째 줄부터 N개의 줄에 지도의 모양이 주어진다. 0은 빈 칸, 1은 벽, 2는 바이러스가 있는 위치이다. 2의 개수는 2보다 크거나 같고, 10보다 작거나 같은 자연수이다.\n",
    "\n",
    ">빈 칸의 개수는 3개 이상이다."
   ]
  },
  {
   "cell_type": "markdown",
   "metadata": {},
   "source": [
    "#### 출력\n",
    "> 첫째 줄에 얻을 수 있는 안전 영역의 최대 크기를 출력한다."
   ]
  },
  {
   "cell_type": "code",
   "execution_count": null,
   "metadata": {},
   "outputs": [],
   "source": [
    "import sys\n",
    "from itertools import combinations\n",
    "import copy\n",
    "sys.stdin=open(\"input.txt\",'r')\n",
    "sys.setrecursionlimit(10**6)\n",
    "dx=[-1,1,0,0]\n",
    "dy=[0,0,1,-1]\n",
    "def dfs(x,y,_cnt):\n",
    "    dist[x][y]=_cnt\n",
    "    for k in range(4):\n",
    "        nx=x+dx[k]\n",
    "        ny=y+dy[k]\n",
    "        if 0<=nx<n and 0<=ny<m:\n",
    "            if lab_temp[nx][ny]==0 and dist[nx][ny]==-1:\n",
    "                lab_temp[nx][ny]=2\n",
    "                dfs(nx,ny,_cnt)\n",
    "\n",
    "n,m=list(map(int,input().split()))\n",
    "\n",
    "lab=[[0 for i in range(m)] for j in range(n)]\n",
    "for k in range(n):\n",
    "    lab[k]=list(map(int,input().split()))\n",
    "total_zero=[]\n",
    "for row in range(n):\n",
    "    for col in range(m):\n",
    "        if lab[row][col]==0:\n",
    "            total_zero.append((row,col))\n",
    "\n",
    "a=combinations(total_zero,3)\n",
    "total_cnt=[]\n",
    "for i in a:\n",
    "    lab_temp=copy.deepcopy(lab)\n",
    "    dist=[[-1 for i in range(m)] for j in range(n)]\n",
    "    lab_temp[i[0][0]][i[0][1]]=1\n",
    "    lab_temp[i[1][0]][i[1][1]]=1\n",
    "    lab_temp[i[2][0]][i[2][1]]=1\n",
    "    cnt=0\n",
    "    cnt_result=0\n",
    "    for row in range(n):\n",
    "        for col in range(m):\n",
    "            if lab_temp[row][col]==2 and dist[row][col]==-1:                \n",
    "                dfs(row,col,cnt)\n",
    "    for row in range(n):\n",
    "        for col in range(m):\n",
    "            if lab_temp[row][col]==0:\n",
    "                cnt_result+=1\n",
    "    total_cnt.append(cnt_result)\n",
    "print(max(total_cnt))"
   ]
  },
  {
   "cell_type": "markdown",
   "metadata": {},
   "source": [
    "# 배울점\n",
    "\n",
    "\n",
    "### DFS로 2를 최대한 퍼트렸다 그리고 난뒤 0의 개수를 세서 세이프존을 찾았다.. 근데 너무 느리다 슬프다.."
   ]
  }
 ],
 "metadata": {
  "kernelspec": {
   "display_name": "Python 3",
   "language": "python",
   "name": "python3"
  },
  "language_info": {
   "codemirror_mode": {
    "name": "ipython",
    "version": 3
   },
   "file_extension": ".py",
   "mimetype": "text/x-python",
   "name": "python",
   "nbconvert_exporter": "python",
   "pygments_lexer": "ipython3",
   "version": "3.7.3"
  }
 },
 "nbformat": 4,
 "nbformat_minor": 4
}
