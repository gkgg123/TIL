{
 "cells": [
  {
   "cell_type": "markdown",
   "metadata": {},
   "source": [
    "# 1436번 문제\n",
    "\n",
    "### 1로 만들기\n"
   ]
  },
  {
   "cell_type": "markdown",
   "metadata": {},
   "source": [
    "#### 문제\n",
    "\n",
    "> 정수 X에 사용할 수 있는 연산은 다음과 같이 세 가지 이다.\n",
    "\n",
    "> 1. X가 3으로 나누어 떨어지면, 3으로 나눈다.\n",
    "> 2. X가 2로 나누어 떨어지면, 2로 나눈다.\n",
    "> 3. 1을 뺀다.\n",
    "\n",
    ">정수 N이 주어졌을 때, 위와 같은 연산 세 개를 적절히 사용해서 1을 만들려고 한다. 연산을 사용하는 횟수의 최솟값을 출력하시오."
   ]
  },
  {
   "cell_type": "markdown",
   "metadata": {},
   "source": [
    "#### 입력\n",
    "> 첫째 줄에 1보다 크거나 같고, 106보다 작거나 같은 정수 N이 주어진다."
   ]
  },
  {
   "cell_type": "markdown",
   "metadata": {},
   "source": [
    "#### 출력\n",
    "> 첫째 줄에 연산을 하는 횟수의 최솟값을 출력한다."
   ]
  },
  {
   "cell_type": "code",
   "execution_count": null,
   "metadata": {},
   "outputs": [],
   "source": [
    "a= int(input())\n",
    "def cal(a):\n",
    "    temp = []\n",
    "    for i in a:\n",
    "        temp.append(i-1)\n",
    "        if i%3==0:\n",
    "            temp.append(i/3)\n",
    "        if i%2==0:\n",
    "            temp.append(i/2)\n",
    "    return temp\n",
    "cnt=0\n",
    "minimum=[a]\n",
    "while True:\n",
    "    if a==1:\n",
    "        print(cnt)\n",
    "        break\n",
    "    temp=minimum[:]\n",
    "    minimum=[]\n",
    "    minimum=cal(temp)\n",
    "    cnt+=1\n",
    "    if min(minimum)==1:\n",
    "        print(cnt)\n",
    "        break"
   ]
  }
 ],
 "metadata": {
  "kernelspec": {
   "display_name": "Python 3",
   "language": "python",
   "name": "python3"
  },
  "language_info": {
   "codemirror_mode": {
    "name": "ipython",
    "version": 3
   },
   "file_extension": ".py",
   "mimetype": "text/x-python",
   "name": "python",
   "nbconvert_exporter": "python",
   "pygments_lexer": "ipython3",
   "version": "3.7.3"
  }
 },
 "nbformat": 4,
 "nbformat_minor": 4
}
