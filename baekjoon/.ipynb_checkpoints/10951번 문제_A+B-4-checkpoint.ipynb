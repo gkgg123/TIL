{
 "cells": [
  {
   "cell_type": "markdown",
   "metadata": {},
   "source": [
    "# 10951번 문제\n",
    "\n",
    "### A+B-4\n"
   ]
  },
  {
   "cell_type": "markdown",
   "metadata": {},
   "source": [
    "#### 문제\n",
    "\n",
    "> 두 정수 A와 B를 입력받은 다음, A+B를 출력하는 프로그램을 작성하시오."
   ]
  },
  {
   "cell_type": "markdown",
   "metadata": {},
   "source": [
    "#### 입력\n",
    "> 입력은 여러 개의 테스트 케이스로 이루어져 있다.\n",
    "각 테스트 케이스는 한 줄로 이루어져 있으며, 각 줄에 A와 B가 주어진다. (0 < A, B < 10)"
   ]
  },
  {
   "cell_type": "markdown",
   "metadata": {},
   "source": [
    "#### 출력\n",
    "> 각 테스트 케이스마다 A+B를 출력한다."
   ]
  },
  {
   "cell_type": "code",
   "execution_count": 5,
   "metadata": {},
   "outputs": [],
   "source": [
    "import sys\n",
    "for k in sys.stdin:\n",
    "    a,b=map(int,k.split())\n",
    "    print(a+b)\n",
    "    \n",
    "### sys.stdin은 들어온 입력값에 따라 알아서 멈춘다.\n"
   ]
  },
  {
   "cell_type": "code",
   "execution_count": 2,
   "metadata": {},
   "outputs": [
    {
     "name": "stdout",
     "output_type": "stream",
     "text": [
      "\n"
     ]
    }
   ],
   "source": [
    "while True:\n",
    "    try:\n",
    "        a, b = map(int, input().split())\n",
    "        print(a+b)\n",
    "    except:\n",
    "        break\n",
    "        \n",
    "### EOF를 해주는 방법"
   ]
  },
  {
   "cell_type": "markdown",
   "metadata": {},
   "source": [
    "# 배울점\n",
    "\n",
    "### 여기서는 EOF (End of File)을 해주는 방법을 알아야한다.\n",
    "\n",
    "#### 첫번째 방법\n",
    "\n",
    "`try:` `expect:`를 넣어줘서 예외가 발생하면 멈추게 하고 그 전까지는 계속 돌아줄수 있도록 `while True`를 쓴다.\n",
    "\n",
    "\n",
    "#### 두번째 방법\n",
    "\n",
    "import sys를 하고 sys.stdin()을 하면 자동적으로 입력이 끊기면  멈춘다."
   ]
  }
 ],
 "metadata": {
  "kernelspec": {
   "display_name": "Python 3",
   "language": "python",
   "name": "python3"
  },
  "language_info": {
   "codemirror_mode": {
    "name": "ipython",
    "version": 3
   },
   "file_extension": ".py",
   "mimetype": "text/x-python",
   "name": "python",
   "nbconvert_exporter": "python",
   "pygments_lexer": "ipython3",
   "version": "3.7.3"
  }
 },
 "nbformat": 4,
 "nbformat_minor": 4
}
