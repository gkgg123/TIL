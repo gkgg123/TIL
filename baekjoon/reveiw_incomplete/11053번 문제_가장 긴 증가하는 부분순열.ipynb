{
 "cells": [
  {
   "cell_type": "markdown",
   "metadata": {},
   "source": [
    "# 11053번 문제\n",
    "\n",
    "### 가장 긴 증가하는 부분순열\n"
   ]
  },
  {
   "cell_type": "markdown",
   "metadata": {},
   "source": [
    "#### 문제\n",
    "\n",
    "> 수열 A가 주어졌을 때, 가장 긴 증가하는 부분 수열을 구하는 프로그램을 작성하시오.\n",
    "\n",
    ">예를 들어, 수열 A = {10, 20, 10, 30, 20, 50} 인 경우에 가장 긴 증가하는 부분 수열은 A = {10, 20, 10, 30, 20, 50} 이고, 길이는 4이다."
   ]
  },
  {
   "cell_type": "markdown",
   "metadata": {},
   "source": [
    "#### 입력\n",
    "> 첫째 줄에 수열 A의 크기 N (1 ≤ N ≤ 1,000)이 주어진다.\n",
    "\n",
    ">둘째 줄에는 수열 A를 이루고 있는 Ai가 주어진다. (1 ≤ Ai ≤ 1,000)"
   ]
  },
  {
   "cell_type": "markdown",
   "metadata": {},
   "source": [
    "#### 출력\n",
    "> 첫째 줄에 수열 A의 가장 긴 증가하는 부분 수열의 길이를 출력한다."
   ]
  },
  {
   "cell_type": "code",
   "execution_count": 57,
   "metadata": {},
   "outputs": [
    {
     "name": "stdout",
     "output_type": "stream",
     "text": [
      "6\n"
     ]
    },
    {
     "ename": "IndexError",
     "evalue": "list index out of range",
     "output_type": "error",
     "traceback": [
      "\u001b[1;31m---------------------------------------------------------------------------\u001b[0m",
      "\u001b[1;31mIndexError\u001b[0m                                Traceback (most recent call last)",
      "\u001b[1;32m<ipython-input-57-7699716e7e28>\u001b[0m in \u001b[0;36m<module>\u001b[1;34m\u001b[0m\n\u001b[0;32m      4\u001b[0m \u001b[0mnumbers\u001b[0m\u001b[1;33m=\u001b[0m\u001b[0mlist\u001b[0m\u001b[1;33m(\u001b[0m\u001b[0mmap\u001b[0m\u001b[1;33m(\u001b[0m\u001b[0mint\u001b[0m\u001b[1;33m,\u001b[0m\u001b[0msys\u001b[0m\u001b[1;33m.\u001b[0m\u001b[0mstdin\u001b[0m\u001b[1;33m.\u001b[0m\u001b[0mreadline\u001b[0m\u001b[1;33m(\u001b[0m\u001b[1;33m)\u001b[0m\u001b[1;33m.\u001b[0m\u001b[0msplit\u001b[0m\u001b[1;33m(\u001b[0m\u001b[1;33m)\u001b[0m\u001b[1;33m)\u001b[0m\u001b[1;33m)\u001b[0m\u001b[1;33m\u001b[0m\u001b[1;33m\u001b[0m\u001b[0m\n\u001b[0;32m      5\u001b[0m \u001b[0mloca\u001b[0m\u001b[1;33m=\u001b[0m\u001b[1;33m[\u001b[0m\u001b[1;33m]\u001b[0m\u001b[1;33m\u001b[0m\u001b[1;33m\u001b[0m\u001b[0m\n\u001b[1;32m----> 6\u001b[1;33m \u001b[0mloca\u001b[0m\u001b[1;33m.\u001b[0m\u001b[0mappend\u001b[0m\u001b[1;33m(\u001b[0m\u001b[0mnumbers\u001b[0m\u001b[1;33m[\u001b[0m\u001b[1;36m0\u001b[0m\u001b[1;33m]\u001b[0m\u001b[1;33m)\u001b[0m\u001b[1;33m\u001b[0m\u001b[1;33m\u001b[0m\u001b[0m\n\u001b[0m\u001b[0;32m      7\u001b[0m \u001b[0mtemp\u001b[0m\u001b[1;33m=\u001b[0m\u001b[1;36m0\u001b[0m\u001b[1;33m\u001b[0m\u001b[1;33m\u001b[0m\u001b[0m\n\u001b[0;32m      8\u001b[0m \u001b[1;32mfor\u001b[0m \u001b[0mi\u001b[0m \u001b[1;32min\u001b[0m \u001b[0mnumbers\u001b[0m\u001b[1;33m[\u001b[0m\u001b[1;36m1\u001b[0m\u001b[1;33m:\u001b[0m\u001b[1;33m]\u001b[0m\u001b[1;33m:\u001b[0m\u001b[1;33m\u001b[0m\u001b[1;33m\u001b[0m\u001b[0m\n",
      "\u001b[1;31mIndexError\u001b[0m: list index out of range"
     ]
    }
   ],
   "source": [
    "import sys\n",
    "\n",
    "T=int(input())\n",
    "numbers=list(map(int,sys.stdin.readline().split()))\n",
    "loca=[]\n",
    "loca.append(numbers[0])\n",
    "temp=0\n",
    "for i in numbers[1:]:\n",
    "    for ind,val in enumerate(loca):\n",
    "        if val>i and i not in loca:\n",
    "            loca[ind]=i\n",
    "            temp=0\n",
    "        elif val<i and i not in loca:\n",
    "            temp=i\n",
    "    if temp>0:\n",
    "        loca.append(temp)\n",
    "    temp=0\n",
    "print((len(loca)))# 1000번 문제"
   ]
  },
  {
   "cell_type": "code",
   "execution_count": 58,
   "metadata": {},
   "outputs": [
    {
     "name": "stdout",
     "output_type": "stream",
     "text": [
      "6\n",
      "10 15 20 10 20 30\n",
      "4\n"
     ]
    }
   ],
   "source": [
    "n = int(input())\n",
    "a = list(map(int, input().split()))\n",
    "dp = [0 for i in range(n)]\n",
    "for i in range(n):\n",
    "    for j in range(i):\n",
    "        if a[i] > a[j] and dp[i] < dp[j]:\n",
    "            dp[i] = dp[j]\n",
    "    dp[i] += 1\n",
    "print(max(dp))"
   ]
  },
  {
   "cell_type": "markdown",
   "metadata": {},
   "source": [
    "# 배울점\n",
    "\n",
    "### 1번째 방법은 거의 완성해놓고 실패를 했다. 실패를 한 이유는 temp값을 초기에 선언을 안해줌으로서 처음 if문을 들어가지 않는경우가 발생하면 런타임 에러가 발생했다\n",
    "\n",
    "### 1번째 방법은 제일 첫 숫자를 loca변수에 저장을 해준다. 그리고 다음거부터 비교를 해서 loca에 저장된 변수보다 전부 크면 마지막에 append를 해주었다.  만약에 loca에 저장된 변수보다 작은경우에 loca 변수에 없을때에 추가를 해주는 방식으로 하였다. "
   ]
  },
  {
   "cell_type": "markdown",
   "metadata": {},
   "source": [
    "### 2번째 방법은 위와 방식과 다른 방법이다.\n",
    "\n",
    "### 2번쨰 방식은 먼저 현재위치를 H라 하겠다. 0부터 H-1 까지의 값들을 비교를 하여 작은 값들의 갯수를 추가해주는 방식이다. 하지만 이 것을 추가를 할때는 한가지 조건이 있는데,\n",
    "\n",
    "### 갯수를 저장해놓는공간을 DP라 하는데 현재위치 H의 DP보다 0~H-1의 각각의 DP가 값이 더 커야 DP의 값을 길게해주는 방식이다."
   ]
  }
 ],
 "metadata": {
  "kernelspec": {
   "display_name": "Python 3",
   "language": "python",
   "name": "python3"
  },
  "language_info": {
   "codemirror_mode": {
    "name": "ipython",
    "version": 3
   },
   "file_extension": ".py",
   "mimetype": "text/x-python",
   "name": "python",
   "nbconvert_exporter": "python",
   "pygments_lexer": "ipython3",
   "version": "3.7.3"
  }
 },
 "nbformat": 4,
 "nbformat_minor": 4
}
