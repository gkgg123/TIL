{
 "cells": [
  {
   "cell_type": "markdown",
   "metadata": {},
   "source": [
    "# 1012번 문제\n",
    "\n",
    "### 유기농 배추\n"
   ]
  },
  {
   "cell_type": "markdown",
   "metadata": {},
   "source": [
    "#### 문제\n",
    "\n",
    "> 차세대 영농인 한나는 강원도 고랭지에서 유기농 배추를 재배하기로 하였다. 농약을 쓰지 않고 배추를 재배하려면 배추를 해충으로부터 보호하는 것이 중요하기 때문에, 한나는 해충 방지에 효과적인 배추흰지렁이를 구입하기로 결심한다. 이 지렁이는 배추근처에 서식하며 해충을 잡아 먹음으로써 배추를 보호한다. 특히, 어떤 배추에 배추흰지렁이가 한 마리라도 살고 있으면 이 지렁이는 인접한 다른 배추로 이동할 수 있어, 그 배추들 역시 해충으로부터 보호받을 수 있다.\n",
    "\n",
    ">(한 배추의 상하좌우 네 방향에 다른 배추가 위치한 경우에 서로 인접해있다고 간주한다)\n",
    "\n",
    ">한나가 배추를 재배하는 땅은 고르지 못해서 배추를 군데군데 심어놓았다. 배추들이 모여있는 곳에는 배추흰지렁이가 한 마리만 있으면 되므로 서로 인접해있는 배추들이 몇 군데에 퍼져있는지 조사하면 총 몇 마리의 지렁이가 필요한지 알 수 있다.\n",
    "\n",
    ">예를 들어 배추밭이 아래와 같이 구성되어 있으면 최소 5마리의 배추흰지렁이가 필요하다.\n",
    "\n",
    ">(0은 배추가 심어져 있지 않은 땅이고, 1은 배추가 심어져 있는 땅을 나타낸다.)"
   ]
  },
  {
   "cell_type": "markdown",
   "metadata": {},
   "source": [
    "#### 입력\n",
    "> 입력의 첫 줄에는 테스트 케이스의 개수 T가 주어진다. 그 다음 줄부터 각각의 테스트 케이스에 대해 첫째 줄에는 배추를 심은 배추밭의 가로길이 M(1 ≤ M ≤ 50)과 세로길이 N(1 ≤ N ≤ 50), 그리고 배추가 심어져 있는 위치의 개수 K(1 ≤ K ≤ 2500)이 주어진다. 그 다음 K줄에는 배추의 위치 X(0 ≤ X ≤ M-1), Y(0 ≤ Y ≤ N-1)가 주어진다."
   ]
  },
  {
   "cell_type": "markdown",
   "metadata": {},
   "source": [
    "#### 출력\n",
    "> 각 테스트 케이스에 대해 필요한 최소의 배추흰지렁이 마리 수를 출력한다."
   ]
  },
  {
   "cell_type": "code",
   "execution_count": 9,
   "metadata": {},
   "outputs": [
    {
     "name": "stdout",
     "output_type": "stream",
     "text": [
      "1\n",
      "1 2 3\n",
      "[[-1], [-1]]\n"
     ]
    }
   ],
   "source": [
    "dx=[1,-1,0,0]\n",
    "dy=[0,0,1,-1]\n",
    "def dfs(x,y,_cnt):\n",
    "    dist[x][y]=_cnt\n",
    "\n",
    "    for k in range(4):\n",
    "        nx=x+dx[k]\n",
    "        ny=y+dy[k]\n",
    "        if 0<=nx<N and 0<=ny<M:\n",
    "            if arr[nx][ny] and dist[nx][ny]==-1:\n",
    "                dfs(nx,ny,_cnt)\n",
    "\n",
    "\n",
    "\n",
    "\n",
    "t=int(input())\n",
    "for _ in range(t):\n",
    "    M,N,K=map(int,input().split())\n",
    "    arr=[[0 for col in range(M)] for row in range(N)]\n",
    "    dist=[[-1 for col in range(M)] for row in range(N)]\n",
    "    for _ in range(K):\n",
    "        y,x=map(int,input().split())\n",
    "        arr[x][y]=1\n",
    "    \n",
    "    cnt=0\n",
    "\n",
    "    for i in range(N):\n",
    "        for j in range(M):\n",
    "            if arr[i][j]==1 and dist[i][j]==-1:\n",
    "                cnt+=1\n",
    "                dfs(i,j,cnt)\n",
    "    print(cnt)\n",
    "\n",
    "    "
   ]
  },
  {
   "cell_type": "markdown",
   "metadata": {},
   "source": [
    "# 배울점\n",
    "\n",
    "### 여기서는 DFS 깊이 탐색 알고리즘을 썼다.\n",
    "\n",
    "#### BFS(넓이 탐색 알고리즘)과 다르게 한쪽 끝을 파고든다고 생각하면 된다. 최대 깊이까지 들어갔다가 다시 돌아와 안한 곳을 다시 한다.\n",
    "\n",
    "#### 여기서는 DIST라는 행렬을 만들어줘 여기를 들렸는지 안들렸는지를 확인해줬다. DIST 함수를 -1로 초기화를 해놓고 만약에 들렸으면, DIST 해당위치에 cnt로 초기화를 해준다.\n",
    "\n",
    "#### 나중에 BFS를 해봐야겠다"
   ]
  }
 ],
 "metadata": {
  "kernelspec": {
   "display_name": "Python 3",
   "language": "python",
   "name": "python3"
  },
  "language_info": {
   "codemirror_mode": {
    "name": "ipython",
    "version": 3
   },
   "file_extension": ".py",
   "mimetype": "text/x-python",
   "name": "python",
   "nbconvert_exporter": "python",
   "pygments_lexer": "ipython3",
   "version": "3.7.3"
  }
 },
 "nbformat": 4,
 "nbformat_minor": 4
}
