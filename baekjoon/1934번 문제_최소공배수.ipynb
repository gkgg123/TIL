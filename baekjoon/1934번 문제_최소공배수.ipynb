{
 "cells": [
  {
   "cell_type": "markdown",
   "metadata": {},
   "source": [
    "# 1000번 문제\n",
    "\n",
    "### A+B\n"
   ]
  },
  {
   "cell_type": "markdown",
   "metadata": {},
   "source": [
    "#### 문제\n",
    "\n",
    "> 두 자연수 A와 B에 대해서, A의 배수이면서 B의 배수인 자연수를 A와 B의 공배수라고 한다. 이런 공배수 중에서 가장 작은 수를 최소공배수라고 한다. 예를 들어, 6과 15의 공배수는 30, 60, 90등이 있으며, 최소 공배수는 30이다.\n",
    "\n",
    ">두 자연수 A와 B가 주어졌을 때, A와 B의 최소공배수를 구하는 프로그램을 작성하시오."
   ]
  },
  {
   "cell_type": "markdown",
   "metadata": {},
   "source": [
    "#### 입력\n",
    "> 첫째 줄에 테스트 케이스의 개수 T(1 ≤ T ≤ 1,000)가 주어진다. 둘째 줄부터 T개의 줄에 걸쳐서 A와 B가 주어진다. (1 ≤ A, B ≤ 45,000)\n"
   ]
  },
  {
   "cell_type": "markdown",
   "metadata": {},
   "source": [
    "#### 출력\n",
    "> 첫째 줄부터 T개의 줄에 A와 B의 최소공배수를 입력받은 순서대로 한 줄에 하나씩 출력한다"
   ]
  },
  {
   "cell_type": "code",
   "execution_count": 14,
   "metadata": {},
   "outputs": [
    {
     "name": "stdout",
     "output_type": "stream",
     "text": [
      "1\n",
      "3 12\n",
      "12\n"
     ]
    }
   ],
   "source": [
    "def gcd(a,b):\n",
    "    mod =a%b\n",
    "    while mod>0:\n",
    "        a=b\n",
    "        b=mod\n",
    "        mod=a%b\n",
    "    return b  \n",
    "\n",
    "T=int(input())\n",
    "for test_case in range(T):\n",
    "    b,c=map(int,input().split(' '))\n",
    "    temp=0\n",
    "    if b<c:\n",
    "        temp=b\n",
    "        b=c\n",
    "        c=temp\n",
    "    mod=gcd(b,c)\n",
    "    result=b*c/mod\n",
    "    print(int(result))\n",
    "    \n",
    "### 최소공배수를 구하는 방법은 최대공약수를 구해서 두수의 곱에서 최대공약수를 나누면 최소공배수가 된다"
   ]
  },
  {
   "cell_type": "code",
   "execution_count": null,
   "metadata": {},
   "outputs": [],
   "source": [
    "def gcd(a,b):\n",
    "    mod =a%b\n",
    "    while mod>0:\n",
    "        a=b\n",
    "        b=mod\n",
    "        mod=a%b\n",
    "    return b  \n",
    "\n",
    "T=int(input())\n",
    "for test_case in range(T):\n",
    "    b,c=sorted(map(int,input().split(' ')),reverse=True)\n",
    "    mod=gcd(b,c)\n",
    "    result=b*c/mod\n",
    "    print(int(result))\n",
    "    \n",
    "# 위 코드와 다르게 정렬을 시켰다."
   ]
  }
 ],
 "metadata": {
  "kernelspec": {
   "display_name": "Python 3",
   "language": "python",
   "name": "python3"
  }
 },
 "nbformat": 4,
 "nbformat_minor": 4
}
