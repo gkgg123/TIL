{
 "cells": [
  {
   "cell_type": "markdown",
   "metadata": {},
   "source": [
    "# 1436번 문제\n",
    "\n",
    "### 1로 만들기\n"
   ]
  },
  {
   "cell_type": "markdown",
   "metadata": {},
   "source": [
    "#### 문제\n",
    "\n",
    "> 정수 X에 사용할 수 있는 연산은 다음과 같이 세 가지 이다.\n",
    "\n",
    "> 1. X가 3으로 나누어 떨어지면, 3으로 나눈다.\n",
    "> 2. X가 2로 나누어 떨어지면, 2로 나눈다.\n",
    "> 3. 1을 뺀다.\n",
    "\n",
    ">정수 N이 주어졌을 때, 위와 같은 연산 세 개를 적절히 사용해서 1을 만들려고 한다. 연산을 사용하는 횟수의 최솟값을 출력하시오."
   ]
  },
  {
   "cell_type": "markdown",
   "metadata": {},
   "source": [
    "#### 입력\n",
    "> 첫째 줄에 1보다 크거나 같고, 106보다 작거나 같은 정수 N이 주어진다."
   ]
  },
  {
   "cell_type": "markdown",
   "metadata": {},
   "source": [
    "#### 출력\n",
    "> 첫째 줄에 연산을 하는 횟수의 최솟값을 출력한다."
   ]
  },
  {
   "cell_type": "code",
   "execution_count": 3,
   "metadata": {},
   "outputs": [
    {
     "name": "stdout",
     "output_type": "stream",
     "text": [
      "33\n",
      "5\n"
     ]
    }
   ],
   "source": [
    "a= int(input())\n",
    "def cal(a):\n",
    "    temp = []\n",
    "    for i in a:\n",
    "        temp.append(i-1)\n",
    "        if i%3==0:\n",
    "            temp.append(i/3)\n",
    "        if i%2==0:\n",
    "            temp.append(i/2)\n",
    "    return temp\n",
    "cnt=0\n",
    "minimum=[a]\n",
    "while True:\n",
    "    if a==1:\n",
    "        print(cnt)\n",
    "        break\n",
    "    temp=minimum[:]\n",
    "    minimum=[]\n",
    "    minimum=cal(temp)\n",
    "    cnt+=1\n",
    "    if min(minimum)==1:\n",
    "        print(cnt)\n",
    "        break"
   ]
  },
  {
   "cell_type": "markdown",
   "metadata": {},
   "source": [
    "# 배울점\n",
    "\n",
    "### 처음에는 a가 a-1이 3으로 나눠지면 3으로 나누고 그게 아니면 3->2의 순으로 나눴다. 그랬더니 몇몇 변수에서 문제가 발생했다\n",
    "\n",
    "### 그래서 바꾼방법은 /2 /3 -1을 했을때 나오는 결과들을 누적으로 계속 계산을 했다. 그래서 그 리스트 내에서 최소값이 1이 나오는 순간 그때까지 해당함수에 들어간 횟수를 count를 해 출력을 했다."
   ]
  }
 ],
 "metadata": {
  "kernelspec": {
   "display_name": "Python 3",
   "language": "python",
   "name": "python3"
  },
  "language_info": {
   "codemirror_mode": {
    "name": "ipython",
    "version": 3
   },
   "file_extension": ".py",
   "mimetype": "text/x-python",
   "name": "python",
   "nbconvert_exporter": "python",
   "pygments_lexer": "ipython3",
   "version": "3.7.3"
  }
 },
 "nbformat": 4,
 "nbformat_minor": 4
}
